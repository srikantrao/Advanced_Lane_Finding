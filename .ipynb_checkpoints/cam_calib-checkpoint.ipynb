{
 "cells": [
  {
   "cell_type": "code",
   "execution_count": 1,
   "metadata": {
    "collapsed": false
   },
   "outputs": [
    {
     "data": {
      "text/html": [
       "<style> code {background-color : pink !important;} </style>"
      ],
      "text/plain": [
       "<IPython.core.display.HTML object>"
      ]
     },
     "metadata": {},
     "output_type": "display_data"
    }
   ],
   "source": [
    "%%HTML\n",
    "<style> code {background-color : pink !important;} </style>"
   ]
  },
  {
   "cell_type": "code",
   "execution_count": 2,
   "metadata": {
    "collapsed": false
   },
   "outputs": [],
   "source": [
    "# Code for running the advanced lane finding project \n",
    "\n",
    "#Author - Srikant Rao \n",
    "\n",
    "## Import statements \n",
    "\n",
    "import numpy as np \n",
    "import cv2\n",
    "import matplotlib.pyplot as plt \n",
    "import matplotlib.image as mpimg \n",
    "import glob \n",
    "import os \n",
    "import pickle \n",
    "\n",
    "##################################################################################\n",
    "######################### Camera Calibration ##################################### \n",
    "##################################################################################\n",
    "\n",
    "# Defining a function based on code from lecture notes to calibrate a camera \n",
    "\n",
    "def camera_calibration(filepath,numx,numy):\n",
    "    \"\"\" Calculates the Camera Matrix and the Distortion Matrix of a Camera based on a set of \n",
    "        chessboard images \"\"\"\n",
    "    \n",
    "    # prepare object points, like (0,0,0), (1,0,0), (2,0,0) ....,(6,5,0)\n",
    "    objp = np.zeros((numx*numy,3), np.float32)\n",
    "    objp[:,:2] = np.mgrid[0:numx, 0:numy].T.reshape(-1,2)\n",
    "\n",
    "    # Arrays to store object points and image points from all the images.\n",
    "    objpoints = [] # 3d points in real world space\n",
    "    imgpoints = [] # 2d points in image plane.\n",
    "\n",
    "    # Make a list of calibration images\n",
    "    images = glob.glob(filepath)\n",
    "    \n",
    "    count = 0\n",
    "    for imgname in images:\n",
    "        img = mpimg.imread(imgname)\n",
    "        gray = cv2.cvtColor(img,cv2.COLOR_BGR2GRAY)\n",
    "        \n",
    "        # Find the Chessboard corners \n",
    "        ret,corners = cv2.findChessboardCorners(gray,(numx,numy),None)\n",
    "        \n",
    "        if ret:\n",
    "            count +=1\n",
    "            imgpoints.append(corners)\n",
    "            objpoints.append(objp)\n",
    "            \n",
    "        # Draw the chessboard corners now \n",
    "        img = cv2.drawChessboardCorners(img,(numx,numy),corners,ret)\n",
    "        \n",
    "        #Calibrate the cameras - Returns the Camera Matrix and the distortion coeffs\n",
    "        ret,mtx,dist,rvecs,tvecs = cv2.calibrateCamera(objpoints,imgpoints,gray.shape[::-1],None,None)\n",
    "        \n",
    "        #Return the Distortion and Camera matrices as they are needed to undistort images\n",
    "    print(count, \" number of images were used for camera calibration\")\n",
    "    return dist,mtx "
   ]
  },
  {
   "cell_type": "code",
   "execution_count": 3,
   "metadata": {
    "collapsed": true
   },
   "outputs": [],
   "source": [
    "# Defining a function to Undistort images based on code in lectures \n",
    "\n",
    "def undistort_image(image,dist,mtx):\n",
    "    undist_image = cv2.undistort(image,mtx,dist,mtx)\n",
    "    return undist_image"
   ]
  },
  {
   "cell_type": "code",
   "execution_count": 4,
   "metadata": {
    "collapsed": false
   },
   "outputs": [
    {
     "name": "stdout",
     "output_type": "stream",
     "text": [
      "17  number of images were used for camera calibration\n",
      "Data cached in pickle file.\n"
     ]
    },
    {
     "ename": "NameError",
     "evalue": "name 'pickle_file' is not defined",
     "output_type": "error",
     "traceback": [
      "\u001b[0;31m---------------------------------------------------------------------------\u001b[0m",
      "\u001b[0;31mNameError\u001b[0m                                 Traceback (most recent call last)",
      "\u001b[0;32m<ipython-input-4-d59c5f6e382f>\u001b[0m in \u001b[0;36m<module>\u001b[0;34m()\u001b[0m\n\u001b[1;32m      8\u001b[0m \u001b[0;34m\u001b[0m\u001b[0m\n\u001b[1;32m      9\u001b[0m \u001b[0mprint\u001b[0m\u001b[0;34m(\u001b[0m\u001b[0;34m'Data cached in pickle file.'\u001b[0m\u001b[0;34m)\u001b[0m\u001b[0;34m\u001b[0m\u001b[0m\n\u001b[0;32m---> 10\u001b[0;31m \u001b[0mprint\u001b[0m\u001b[0;34m(\u001b[0m\u001b[0;34m\"Path to the pickle file is: \"\u001b[0m\u001b[0;34m,\u001b[0m\u001b[0mpickle_file\u001b[0m\u001b[0;34m)\u001b[0m\u001b[0;34m\u001b[0m\u001b[0m\n\u001b[0m",
      "\u001b[0;31mNameError\u001b[0m: name 'pickle_file' is not defined"
     ]
    }
   ],
   "source": [
    "# Calibrate the camera once and store the distortion and Camera matrix in a pickle file \n",
    "\n",
    "filepath = 'camera_cal/calibration*.jpg'\n",
    "dist,mtx = camera_calibration(filepath,9,6)\n",
    "\n",
    "# Save this to a pickle file \n",
    "pickle.dump( [dist,mtx], open( \"matrices.pickle\", \"wb\" ) )\n",
    "                \n",
    "print('Data cached in pickle file.')\n",
    "print(\"Path to the pickle file is: \",\"matrices.pickle\")"
   ]
  },
  {
   "cell_type": "code",
   "execution_count": null,
   "metadata": {
    "collapsed": false
   },
   "outputs": [],
   "source": [
    "%matplotlib inline\n",
    "\n",
    "for i in range(20):\n",
    "    fname = 'camera_cal/calibration'+ str(i+1) + '.jpg'\n",
    "    img = cv2.imread(fname)\n",
    "    \n",
    "    #Undistort the image \n",
    "    ud_img = undistort_image(img,dist,mtx)\n",
    "    \n",
    "    #Save the image in a different folder \n",
    "    mpimg.imsave('camera_undistorted/calibration'+ str(i+1) + '.jpg',ud_img)\n",
    "    \n",
    "    # Plot the undistorted images \n",
    "    plt.figure(figsize=(32, 32))\n",
    "    i=1\n",
    "    plt.subplot(5, 4, i)  # A grid of 8 rows x 8 columns\n",
    "    plt.axis('off')\n",
    "    i += 1\n",
    "    _ = plt.imshow(ud_img)\n",
    "    #plt.show()\n",
    "\n",
    "print(\"Plotting is completed ..\")"
   ]
  },
  {
   "cell_type": "code",
   "execution_count": null,
   "metadata": {
    "collapsed": true
   },
   "outputs": [],
   "source": [
    "\n",
    "\n",
    "\n",
    "        \n"
   ]
  }
 ],
 "metadata": {
  "anaconda-cloud": {},
  "kernelspec": {
   "display_name": "Python [conda root]",
   "language": "python",
   "name": "conda-root-py"
  },
  "language_info": {
   "codemirror_mode": {
    "name": "ipython",
    "version": 3
   },
   "file_extension": ".py",
   "mimetype": "text/x-python",
   "name": "python",
   "nbconvert_exporter": "python",
   "pygments_lexer": "ipython3",
   "version": "3.5.2"
  }
 },
 "nbformat": 4,
 "nbformat_minor": 1
}
